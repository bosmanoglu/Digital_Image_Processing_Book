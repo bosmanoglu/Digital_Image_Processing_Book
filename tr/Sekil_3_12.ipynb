{
 "cells": [
  {
   "cell_type": "code",
   "execution_count": 1,
   "metadata": {
    "collapsed": false,
    "deletable": true,
    "editable": true
   },
   "outputs": [],
   "source": [
    "#DTMF tonlarini hazirla ve Fourier Transformunu goster\n",
    "import numpy as np\n",
    "import bqplot.pyplot as pl\n",
    "import bqplot\n",
    "## DTMF Tonlari: 697,770,852,941 Hz ve 1209,1336,1477,1633 Hz\n",
    "t=np.linspace(0,1,8000) # ornekleme araligi ornekleyecegimiz frekansin en az iki kati olmali.\n",
    "ton1=np.sin(2*np.pi*697*t) + np.sin(2*np.pi*1209*t)\n",
    "ton2=np.sin(2*np.pi*697*t) + np.sin(2*np.pi*1336*t)\n",
    "#ton4=np.sin(2*np.pi*770*t) + np.sin(2*np.pi*1209*t)\n",
    "pl.figure(1, title='Zamanda Isaret');pl.clear();pl.plot(t[0:100],ton1[0:100], 'r');\n",
    "pl.plot(t[0:100],ton2[0:100], 'g');\n",
    "#pl.plot(t[0:100],ton4[0:100], 'b');\n",
    "pl.show() #pl.title('1 tonu');pl.xlabel('Zaman (sn)');pl.ylabel('Genlik (volt)')\n",
    "## Frekans uzayi gosterimi\n",
    "Fourier_ton1=np.fft.fft(ton1);\n",
    "Fourier_ton2=np.fft.fft(ton2);\n",
    "#Fourier_ton4=np.fft.fft(ton4);\n",
    "freq = np.fft.fftfreq(t.shape[-1], d=np.diff(t).mean())\n",
    "pl.figure(2, title='Frekans Uzayi Gosterimi');pl.clear();pl.plot(freq[0:4000], 20*np.log10(abs(Fourier_ton1[0:4000])), 'r');\n",
    "pl.plot(freq[0:4000], 20*np.log10(abs(Fourier_ton2[0:4000])), 'g');\n",
    "#pl.plot(freq[0:4000], 20*np.log10(abs(Fourier_ton4[0:4000])), 'b');\n",
    "pl.show();\n"
   ]
  },
  {
   "cell_type": "code",
   "execution_count": null,
   "metadata": {
    "collapsed": true,
    "deletable": true,
    "editable": true
   },
   "outputs": [],
   "source": []
  },
  {
   "cell_type": "code",
   "execution_count": null,
   "metadata": {
    "collapsed": true,
    "deletable": true,
    "editable": true
   },
   "outputs": [],
   "source": []
  }
 ],
 "metadata": {
  "kernelspec": {
   "display_name": "Python 2",
   "language": "python",
   "name": "python2"
  },
  "language_info": {
   "codemirror_mode": {
    "name": "ipython",
    "version": 2
   },
   "file_extension": ".py",
   "mimetype": "text/x-python",
   "name": "python",
   "nbconvert_exporter": "python",
   "pygments_lexer": "ipython2",
   "version": "2.7.12"
  },
  "widgets": {
   "state": {
    "311b9cf9e954497a9e683683448d327f": {
     "views": [
      {
       "cell_index": 0
      }
     ]
    },
    "479234839b25420ebeb8d5432df0b487": {
     "views": [
      {
       "cell_index": 0
      }
     ]
    }
   },
   "version": "1.2.0"
  }
 },
 "nbformat": 4,
 "nbformat_minor": 2
}
