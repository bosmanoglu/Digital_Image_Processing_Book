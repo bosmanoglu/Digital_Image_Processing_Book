{
 "cells": [
  {
   "cell_type": "code",
   "execution_count": 11,
   "metadata": {
    "collapsed": false,
    "deletable": true,
    "editable": true
   },
   "outputs": [],
   "source": [
    "#DTMF tonlarini hazirla ve Fourier Transformunu goster\n",
    "import numpy as np\n",
    "import bqplot.pyplot as pl\n",
    "import bqplot\n",
    "## DTMF Tonlari: 697,770,852,941 Hz ve 1209,1336,1477,1633 Hz\n",
    "t=np.linspace(0,1,8000) # ornekleme araligi ornekleyecegimiz frekansin en az iki kati olmali.\n",
    "ton1=np.sin(2*np.pi*697*t) + np.sin(2*np.pi*1209*t)\n",
    "ton2=np.sin(2*np.pi*697*t) + np.sin(2*np.pi*1336*t)\n",
    "#ton4=np.sin(2*np.pi*770*t) + np.sin(2*np.pi*1209*t)\n",
    "pl.figure(1, title='Zamanda Isaret');pl.clear();pl.plot(t[0:100],ton1[0:100], 'r');\n",
    "pl.plot(t[0:100],ton2[0:100], 'g');\n",
    "#pl.plot(t[0:100],ton4[0:100], 'b');\n",
    "pl.show() #pl.title('1 tonu');pl.xlabel('Zaman (sn)');pl.ylabel('Genlik (volt)')\n",
    "## Frekans uzayi gosterimi\n",
    "Fourier_ton1=np.fft.fft(ton1);\n",
    "Fourier_ton2=np.fft.fft(ton2);\n",
    "#Fourier_ton4=np.fft.fft(ton4);\n",
    "freq = np.fft.fftfreq(t.shape[-1], d=np.diff(t).mean())\n",
    "pl.figure(2, title='Frekans Uzayi Gosterimi');pl.clear();pl.plot(freq[0:4000], 20*np.log10(abs(Fourier_ton1[0:4000])), 'r');\n",
    "pl.plot(freq[0:4000], 20*np.log10(abs(Fourier_ton2[0:4000])), 'g');\n",
    "#pl.plot(freq[0:4000], 20*np.log10(abs(Fourier_ton4[0:4000])), 'b');\n",
    "pl.show();\n"
   ]
  },
  {
   "cell_type": "code",
   "execution_count": null,
   "metadata": {
    "collapsed": true,
    "deletable": true,
    "editable": true
   },
   "outputs": [],
   "source": []
  },
  {
   "cell_type": "code",
   "execution_count": null,
   "metadata": {
    "collapsed": true,
    "deletable": true,
    "editable": true
   },
   "outputs": [],
   "source": []
  }
 ],
 "metadata": {
  "kernelspec": {
   "display_name": "Python 2",
   "language": "python",
   "name": "python2"
  },
  "language_info": {
   "codemirror_mode": {
    "name": "ipython",
    "version": 2
   },
   "file_extension": ".py",
   "mimetype": "text/x-python",
   "name": "python",
   "nbconvert_exporter": "python",
   "pygments_lexer": "ipython2",
   "version": "2.7.12"
  },
  "widgets": {
   "state": {
    "1d3062a5c64448dba8ab690fb1a94e64": {
     "views": [
      {
       "cell_index": 0
      }
     ]
    },
    "422083937bdd46dfbd40c60b209e03b0": {
     "views": [
      {
       "cell_index": 0
      }
     ]
    },
    "9896fb5c04754ef393d30eb70d261c3a": {
     "views": [
      {
       "cell_index": 0
      }
     ]
    },
    "9988e00dd02045c6ae4e6efba519e9ed": {
     "views": [
      {
       "cell_index": 0
      }
     ]
    },
    "a3046a449b9f425991072b6775b4d7f6": {
     "views": [
      {
       "cell_index": 0
      }
     ]
    },
    "ada30fcadc8244cf972ad144c0c3b7fe": {
     "views": [
      {
       "cell_index": 0
      }
     ]
    },
    "c9f2bbfb4a794a06b8640cfa844a6b1b": {
     "views": [
      {
       "cell_index": 0
      }
     ]
    },
    "d06e14845c874379921d6dffb31cf5b7": {
     "views": [
      {
       "cell_index": 0
      }
     ]
    },
    "da3dd06d44a549cd94a0f71c7ffb7676": {
     "views": [
      {
       "cell_index": 0
      }
     ]
    },
    "e83ac6eec117467d822b83a6a413ff70": {
     "views": [
      {
       "cell_index": 0
      }
     ]
    }
   },
   "version": "1.2.0"
  }
 },
 "nbformat": 4,
 "nbformat_minor": 2
}
