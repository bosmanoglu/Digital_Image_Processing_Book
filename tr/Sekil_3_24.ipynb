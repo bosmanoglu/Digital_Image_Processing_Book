{
 "cells": [
  {
   "cell_type": "markdown",
   "metadata": {
    "deletable": true,
    "editable": true
   },
   "source": [
    "# # Yamula Baraji\n",
    "### Sekil 3.38"
   ]
  },
  {
   "cell_type": "code",
   "execution_count": 1,
   "metadata": {
    "collapsed": true,
    "deletable": true,
    "editable": true
   },
   "outputs": [],
   "source": [
    "# coding: utf-8\n",
    "# Graphing helper function\n",
    "def setup_graph(title='', x_label='', y_label='', fig_size=None):\n",
    "    fig = plt.figure()\n",
    "    if fig_size != None:\n",
    "        fig.set_size_inches(fig_size[0], fig_size[1])\n",
    "    ax = fig.add_subplot(111)\n",
    "    ax.set_title(title)\n",
    "    ax.set_xlabel(x_label)\n",
    "    ax.set_ylabel(y_label)"
   ]
  },
  {
   "cell_type": "markdown",
   "metadata": {
    "deletable": true,
    "editable": true
   },
   "source": [
    "### Yamula Goruntulerini okuyalim."
   ]
  },
  {
   "cell_type": "code",
   "execution_count": 2,
   "metadata": {
    "collapsed": false,
    "deletable": true,
    "editable": true
   },
   "outputs": [],
   "source": [
    "get_ipython().magic('matplotlib inline')\n",
    "import scipy\n",
    "import scipy.misc\n",
    "import numpy as np\n",
    "import pylab as plt\n",
    "y2003=scipy.misc.imread('../ext/Yamula_2003.png', flatten=True)\n",
    "y2004=scipy.misc.imread('../ext/Yamula_2004.png', flatten=True)\n",
    "y2005=scipy.misc.imread('../ext/Yamula_2005.png', flatten=True)\n",
    "y2006=scipy.misc.imread('../ext/Yamula_2006.png', flatten=True)\n",
    "ts=np.zeros([y2003.shape[0], y2003.shape[1], 4])\n",
    "ts[:,:,0]=y2003;\n",
    "ts[:,:,1]=y2004;\n",
    "ts[:,:,2]=y2005;\n",
    "ts[:,:,3]=y2006;"
   ]
  },
  {
   "cell_type": "markdown",
   "metadata": {
    "deletable": true,
    "editable": true
   },
   "source": [
    "### Simdi gri renk degerlerinin zamanda degisimine bakalim"
   ]
  },
  {
   "cell_type": "code",
   "execution_count": 3,
   "metadata": {
    "collapsed": false,
    "deletable": true,
    "editable": true
   },
   "outputs": [
    {
     "data": {
      "image/png": "[encoded data removed]",
      "text/plain": [
       "<matplotlib.figure.Figure at 0x7f3a903f2150>"
      ]
     },
     "metadata": {},
     "output_type": "display_data"
    }
   ],
   "source": [
    "t=np.r_[03:07]\n",
    "plt.figure();\n",
    "plt.plot(t, ts[373,542,:], 'ko-');\n",
    "plt.plot(t, ts[212,532,:], 'k^-');\n",
    "plt.plot(t, ts[326,540,:], 'ks-');\n",
    "plt.xlabel(u'Zaman (Yıl)'); plt.ylabel(u'Parlaklık Değeri')\n",
    "plt.xlim([2.5,6.5]);"
   ]
  },
  {
   "cell_type": "code",
   "execution_count": null,
   "metadata": {
    "collapsed": true,
    "deletable": true,
    "editable": true
   },
   "outputs": [],
   "source": []
  }
 ],
 "metadata": {
  "kernelspec": {
   "display_name": "Python 2",
   "language": "python",
   "name": "python2"
  },
  "language_info": {
   "codemirror_mode": {
    "name": "ipython",
    "version": 2
   },
   "file_extension": ".py",
   "mimetype": "text/x-python",
   "name": "python",
   "nbconvert_exporter": "python",
   "pygments_lexer": "ipython2",
   "version": "2.7.12"
  }
 },
 "nbformat": 4,
 "nbformat_minor": 2
}
